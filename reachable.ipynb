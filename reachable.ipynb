{
 "cells": [
  {
   "cell_type": "code",
   "execution_count": 7,
   "id": "b6e4fd52",
   "metadata": {},
   "outputs": [],
   "source": [
    "def reachable(adj_list, start_node):\n",
    "    stack = [start_node]\n",
    "    visited = set()\n",
    "    \n",
    "    while stack:\n",
    "        node = stack.pop()\n",
    "        \n",
    "        if node not in visited:\n",
    "            visited.add(node)\n",
    "            \n",
    "            for i in adj_list[node]:\n",
    "                if i not in visited:\n",
    "                    stack.append(i)\n",
    "    \n",
    "    return visited"
   ]
  },
  {
   "cell_type": "code",
   "execution_count": 9,
   "id": "34a6143a",
   "metadata": {},
   "outputs": [
    {
     "name": "stdout",
     "output_type": "stream",
     "text": [
      "{0, 1, 2, 3, 4}\n"
     ]
    }
   ],
   "source": [
    "#Basic test\n",
    "print(reachable([[1,3],[2],[0],[4],[3],[]],0))"
   ]
  },
  {
   "cell_type": "code",
   "execution_count": 12,
   "id": "f9b59431",
   "metadata": {},
   "outputs": [
    {
     "name": "stdout",
     "output_type": "stream",
     "text": [
      "{0}\n"
     ]
    }
   ],
   "source": [
    "#No Edge\n",
    "print(reachable([[]],0))"
   ]
  },
  {
   "cell_type": "code",
   "execution_count": 13,
   "id": "b2d51de9",
   "metadata": {},
   "outputs": [
    {
     "name": "stdout",
     "output_type": "stream",
     "text": [
      "{0}\n"
     ]
    }
   ],
   "source": [
    "#Self Loop\n",
    "print(reachable([[0]],0))"
   ]
  },
  {
   "cell_type": "code",
   "execution_count": 15,
   "id": "e7f4ca74",
   "metadata": {},
   "outputs": [
    {
     "name": "stdout",
     "output_type": "stream",
     "text": [
      "{1, 2, 3, 4, 5, 6}\n"
     ]
    }
   ],
   "source": [
    "#Large Graph\n",
    "adj_list = [[1,3],[4],[1],[5],[3,6],[],[5]]\n",
    "print(reachable(adj_list,2))"
   ]
  },
  {
   "cell_type": "code",
   "execution_count": null,
   "id": "6b0c1185",
   "metadata": {},
   "outputs": [],
   "source": []
  }
 ],
 "metadata": {
  "kernelspec": {
   "display_name": "Python 3 (ipykernel)",
   "language": "python",
   "name": "python3"
  },
  "language_info": {
   "codemirror_mode": {
    "name": "ipython",
    "version": 3
   },
   "file_extension": ".py",
   "mimetype": "text/x-python",
   "name": "python",
   "nbconvert_exporter": "python",
   "pygments_lexer": "ipython3",
   "version": "3.11.5"
  }
 },
 "nbformat": 4,
 "nbformat_minor": 5
}
