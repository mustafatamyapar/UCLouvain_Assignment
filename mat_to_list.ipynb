{
 "cells": [
  {
   "cell_type": "code",
   "execution_count": 24,
   "id": "35367fd2",
   "metadata": {},
   "outputs": [],
   "source": [
    "def mat_to_list(adj_mat):\n",
    "    adj_list = []\n",
    "    for _ in range(len(adj_mat)):\n",
    "        adj_list.append([])\n",
    "    \n",
    "    for i in range(len(adj_mat)):\n",
    "        for j in range(len(adj_mat)):\n",
    "            if adj_mat[i][j] == 1:\n",
    "                adj_list[i].append(j)\n",
    "                \n",
    "    return adj_list"
   ]
  },
  {
   "cell_type": "code",
   "execution_count": 25,
   "id": "871879f5",
   "metadata": {},
   "outputs": [
    {
     "name": "stdout",
     "output_type": "stream",
     "text": [
      "[[1, 3], [2], [0], [4], [5], []]\n"
     ]
    }
   ],
   "source": [
    "#Basic Test\n",
    "adj_matrix = [\n",
    "    [0, 1, 0, 1, 0, 0],\n",
    "    [0, 0, 1, 0, 0, 0],\n",
    "    [1, 0, 0, 0, 0, 0],\n",
    "    [0, 0, 0, 0, 1, 0],\n",
    "    [0, 0, 0, 0, 0, 1],\n",
    "    [0, 0, 0, 0, 0, 0]\n",
    "]\n",
    "    \n",
    "adj_list = mat_to_list(adj_matrix)\n",
    "\n",
    "print(adjacency_list)"
   ]
  },
  {
   "cell_type": "code",
   "execution_count": 26,
   "id": "a069f70c",
   "metadata": {},
   "outputs": [
    {
     "name": "stdout",
     "output_type": "stream",
     "text": [
      "Pass\n",
      "[[0]]\n"
     ]
    }
   ],
   "source": [
    "#Self Loop\n",
    "adj_matrix = [[1]]\n",
    "expected = [[0]]\n",
    "result = mat_to_list(adj_matrix)\n",
    "if(result == expected):\n",
    "    print(\"Pass\")\n",
    "    print(result)"
   ]
  },
  {
   "cell_type": "code",
   "execution_count": 27,
   "id": "5dba82f8",
   "metadata": {},
   "outputs": [
    {
     "name": "stdout",
     "output_type": "stream",
     "text": [
      "Pass\n",
      "[[]]\n"
     ]
    }
   ],
   "source": [
    "#No edge\n",
    "adj_matrix = [[0]]\n",
    "expected = [[]]\n",
    "result = mat_to_list(adj_matrix)\n",
    "if(result == expected):\n",
    "    print(\"Pass\")\n",
    "    print(result)"
   ]
  },
  {
   "cell_type": "code",
   "execution_count": null,
   "id": "26129b74",
   "metadata": {},
   "outputs": [],
   "source": []
  }
 ],
 "metadata": {
  "kernelspec": {
   "display_name": "Python 3 (ipykernel)",
   "language": "python",
   "name": "python3"
  },
  "language_info": {
   "codemirror_mode": {
    "name": "ipython",
    "version": 3
   },
   "file_extension": ".py",
   "mimetype": "text/x-python",
   "name": "python",
   "nbconvert_exporter": "python",
   "pygments_lexer": "ipython3",
   "version": "3.11.5"
  }
 },
 "nbformat": 4,
 "nbformat_minor": 5
}
